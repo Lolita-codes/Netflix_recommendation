{
  "nbformat": 4,
  "nbformat_minor": 0,
  "metadata": {
    "colab": {
      "provenance": [],
      "collapsed_sections": [
        "BxY_4BE2FAiG",
        "luK6GWQqFeem",
        "0CiQGWeHFvrf"
      ]
    },
    "kernelspec": {
      "name": "python3",
      "display_name": "Python 3"
    },
    "language_info": {
      "name": "python"
    }
  },
  "cells": [
    {
      "cell_type": "markdown",
      "source": [
        "## Imports"
      ],
      "metadata": {
        "id": "UvASx1tXELBr"
      }
    },
    {
      "cell_type": "code",
      "execution_count": null,
      "metadata": {
        "id": "ZYYublGsNOzu"
      },
      "outputs": [],
      "source": [
        "import numpy as np\n",
        "import pandas as pd\n",
        "from sklearn.feature_extraction import text\n",
        "from sklearn.metrics.pairwise import cosine_similarity\n",
        "\n",
        "import nltk\n",
        "import re\n",
        "from nltk.corpus import stopwords\n",
        "import string\n"
      ]
    },
    {
      "cell_type": "markdown",
      "source": [
        "## Data Exploration and Cleaning"
      ],
      "metadata": {
        "id": "BxY_4BE2FAiG"
      }
    },
    {
      "cell_type": "code",
      "source": [
        "data = pd.read_csv(\"netflixData.csv\")\n",
        "print(data.head())"
      ],
      "metadata": {
        "colab": {
          "base_uri": "https://localhost:8080/"
        },
        "id": "ClORPCibN42x",
        "outputId": "696bb15d-1821-4cbb-b85f-ea773fa3b0b4"
      },
      "execution_count": null,
      "outputs": [
        {
          "output_type": "stream",
          "name": "stdout",
          "text": [
            "                                Show Id                          Title  \\\n",
            "0  cc1b6ed9-cf9e-4057-8303-34577fb54477                       (Un)Well   \n",
            "1  e2ef4e91-fb25-42ab-b485-be8e3b23dedb                         #Alive   \n",
            "2  b01b73b7-81f6-47a7-86d8-acb63080d525  #AnneFrank - Parallel Stories   \n",
            "3  b6611af0-f53c-4a08-9ffa-9716dc57eb9c                       #blackAF   \n",
            "4  7f2d4170-bab8-4d75-adc2-197f7124c070               #cats_the_mewvie   \n",
            "\n",
            "                                         Description  \\\n",
            "0  This docuseries takes a deep dive into the luc...   \n",
            "1  As a grisly virus rampages a city, a lone man ...   \n",
            "2  Through her diary, Anne Frank's story is retol...   \n",
            "3  Kenya Barris and his family navigate relations...   \n",
            "4  This pawesome documentary explores how our fel...   \n",
            "\n",
            "                      Director  \\\n",
            "0                          NaN   \n",
            "1                       Cho Il   \n",
            "2  Sabina Fedeli, Anna Migotto   \n",
            "3                          NaN   \n",
            "4             Michael Margolis   \n",
            "\n",
            "                                           Genres  \\\n",
            "0                                      Reality TV   \n",
            "1  Horror Movies, International Movies, Thrillers   \n",
            "2             Documentaries, International Movies   \n",
            "3                                     TV Comedies   \n",
            "4             Documentaries, International Movies   \n",
            "\n",
            "                                                Cast Production Country  \\\n",
            "0                                                NaN      United States   \n",
            "1                           Yoo Ah-in, Park Shin-hye        South Korea   \n",
            "2                        Helen Mirren, Gengher Gatti              Italy   \n",
            "3  Kenya Barris, Rashida Jones, Iman Benson, Genn...      United States   \n",
            "4                                                NaN             Canada   \n",
            "\n",
            "   Release Date Rating  Duration Imdb Score Content Type         Date Added  \n",
            "0        2020.0  TV-MA  1 Season     6.6/10      TV Show                NaN  \n",
            "1        2020.0  TV-MA    99 min     6.2/10        Movie  September 8, 2020  \n",
            "2        2019.0  TV-14    95 min     6.4/10        Movie       July 1, 2020  \n",
            "3        2020.0  TV-MA  1 Season     6.6/10      TV Show                NaN  \n",
            "4        2020.0  TV-14    90 min     5.1/10        Movie   February 5, 2020  \n"
          ]
        }
      ]
    },
    {
      "cell_type": "code",
      "source": [
        "print(data.isnull().sum())"
      ],
      "metadata": {
        "colab": {
          "base_uri": "https://localhost:8080/"
        },
        "id": "FVJU4IHHN7m_",
        "outputId": "f539d464-94b4-4561-9767-09348c460d68",
        "collapsed": true
      },
      "execution_count": null,
      "outputs": [
        {
          "output_type": "stream",
          "name": "stdout",
          "text": [
            "Show Id                  0\n",
            "Title                    0\n",
            "Description              0\n",
            "Director              2064\n",
            "Genres                   0\n",
            "Cast                   530\n",
            "Production Country     559\n",
            "Release Date             3\n",
            "Rating                   4\n",
            "Duration                 3\n",
            "Imdb Score             608\n",
            "Content Type             0\n",
            "Date Added            1335\n",
            "dtype: int64\n"
          ]
        }
      ]
    },
    {
      "cell_type": "code",
      "source": [
        "data = data[[\"Title\", \"Description\", \"Content Type\", \"Genres\", \"Production Country\", \"Release Date\", \"Duration\", \"Rating\", \"Imdb Score\"]]\n",
        "print(data.head())"
      ],
      "metadata": {
        "colab": {
          "base_uri": "https://localhost:8080/"
        },
        "id": "EnIORt0kN7uZ",
        "outputId": "fc157af7-100e-4ca9-ffa6-e8f6c560f5a5",
        "collapsed": true
      },
      "execution_count": null,
      "outputs": [
        {
          "output_type": "stream",
          "name": "stdout",
          "text": [
            "                           Title  \\\n",
            "0                       (Un)Well   \n",
            "1                         #Alive   \n",
            "2  #AnneFrank - Parallel Stories   \n",
            "3                       #blackAF   \n",
            "4               #cats_the_mewvie   \n",
            "\n",
            "                                         Description Content Type  \\\n",
            "0  This docuseries takes a deep dive into the luc...      TV Show   \n",
            "1  As a grisly virus rampages a city, a lone man ...        Movie   \n",
            "2  Through her diary, Anne Frank's story is retol...        Movie   \n",
            "3  Kenya Barris and his family navigate relations...      TV Show   \n",
            "4  This pawesome documentary explores how our fel...        Movie   \n",
            "\n",
            "                                           Genres Production Country  \\\n",
            "0                                      Reality TV      United States   \n",
            "1  Horror Movies, International Movies, Thrillers        South Korea   \n",
            "2             Documentaries, International Movies              Italy   \n",
            "3                                     TV Comedies      United States   \n",
            "4             Documentaries, International Movies             Canada   \n",
            "\n",
            "   Release Date  Duration Rating Imdb Score  \n",
            "0        2020.0  1 Season  TV-MA     6.6/10  \n",
            "1        2020.0    99 min  TV-MA     6.2/10  \n",
            "2        2019.0    95 min  TV-14     6.4/10  \n",
            "3        2020.0  1 Season  TV-MA     6.6/10  \n",
            "4        2020.0    90 min  TV-14     5.1/10  \n"
          ]
        }
      ]
    },
    {
      "cell_type": "code",
      "source": [
        "data = data.dropna()"
      ],
      "metadata": {
        "id": "nBPT07RtN7z5"
      },
      "execution_count": null,
      "outputs": []
    },
    {
      "cell_type": "markdown",
      "source": [
        "## Data Preparation"
      ],
      "metadata": {
        "id": "luK6GWQqFeem"
      }
    },
    {
      "cell_type": "code",
      "source": [
        "nltk.download('stopwords')\n",
        "stemmer = nltk.SnowballStemmer(\"english\")\n",
        "stopword=set(stopwords.words('english'))"
      ],
      "metadata": {
        "colab": {
          "base_uri": "https://localhost:8080/"
        },
        "id": "s0WKPhopP4kH",
        "outputId": "906b68aa-9f3e-4c42-8a01-ab692a9f131b",
        "collapsed": true
      },
      "execution_count": null,
      "outputs": [
        {
          "output_type": "stream",
          "name": "stderr",
          "text": [
            "[nltk_data] Downloading package stopwords to /root/nltk_data...\n",
            "[nltk_data]   Unzipping corpora/stopwords.zip.\n"
          ]
        }
      ]
    },
    {
      "cell_type": "code",
      "source": [
        "def clean(text):\n",
        "    text = str(text).lower()  # Convert text to lowercase\n",
        "    text = re.sub('\\[.*?\\]', '', text)  # Remove text inside square brackets\n",
        "    text = re.sub('https?://\\S+|www\\.\\S+', '', text)  # Remove URLs\n",
        "    text = re.sub('<.*?>+', '', text)  # Remove HTML tags\n",
        "    text = re.sub('[%s]' % re.escape(string.punctuation), '', text)  # Remove punctuation\n",
        "    text = re.sub('\\n', '', text)  # Remove newline characters\n",
        "    text = re.sub('\\w*\\d\\w*', '', text)  # Remove words containing numbers\n",
        "    text = [word for word in text.split(' ') if word not in stopword]  # Remove stopwords\n",
        "    text=\" \".join(text)  # Join the words back into a single string\n",
        "    text = [stemmer.stem(word) for word in text.split(' ')]  # Stem the words\n",
        "    text=\" \".join(text)  # Join the stemmed words back into a single string\n",
        "    return text\n",
        "\n",
        "data[\"Title\"] = data[\"Title\"].apply(clean)"
      ],
      "metadata": {
        "id": "g8OlowKYP7iN"
      },
      "execution_count": null,
      "outputs": []
    },
    {
      "cell_type": "code",
      "source": [
        "print(data.Title.head(10))"
      ],
      "metadata": {
        "colab": {
          "base_uri": "https://localhost:8080/"
        },
        "id": "v4FwNgeqN75W",
        "outputId": "bf218598-26e3-4ee6-b90f-b74700c180ca",
        "collapsed": true
      },
      "execution_count": null,
      "outputs": [
        {
          "output_type": "stream",
          "name": "stdout",
          "text": [
            "0                        unwel\n",
            "1                         aliv\n",
            "2    annefrank  parallel stori\n",
            "3                      blackaf\n",
            "4                 catsthemewvi\n",
            "5               friendbutmarri\n",
            "6              friendbutmarri \n",
            "7                  realityhigh\n",
            "8                             \n",
            "9                        selfi\n",
            "Name: Title, dtype: object\n"
          ]
        }
      ]
    },
    {
      "cell_type": "code",
      "source": [
        "feature = data[\"Genres\"].tolist()\n",
        "tfidf = text.TfidfVectorizer(stop_words=\"english\")\n",
        "tfidf_matrix = tfidf.fit_transform(feature)\n",
        "similarity = cosine_similarity(tfidf_matrix)\n",
        "tfidf_matrix"
      ],
      "metadata": {
        "colab": {
          "base_uri": "https://localhost:8080/"
        },
        "id": "sgsyH_BqN79j",
        "outputId": "1edb9284-cc39-491c-c2e5-1299deebf26c",
        "collapsed": true
      },
      "execution_count": null,
      "outputs": [
        {
          "output_type": "execute_result",
          "data": {
            "text/plain": [
              "<5249x44 sparse matrix of type '<class 'numpy.float64'>'\n",
              "\twith 19444 stored elements in Compressed Sparse Row format>"
            ]
          },
          "metadata": {},
          "execution_count": 14
        }
      ]
    },
    {
      "cell_type": "code",
      "source": [
        "indices = pd.Series(data.index,\n",
        "                    index=data['Title']).drop_duplicates()\n",
        "indices"
      ],
      "metadata": {
        "id": "abUY9ytuOJ7_",
        "colab": {
          "base_uri": "https://localhost:8080/",
          "height": 489
        },
        "collapsed": true,
        "outputId": "9c173023-a354-4139-dd2c-353d066f5fbe"
      },
      "execution_count": null,
      "outputs": [
        {
          "output_type": "execute_result",
          "data": {
            "text/plain": [
              "Title\n",
              "unwel                           0\n",
              "aliv                            1\n",
              "annefrank  parallel stori       2\n",
              "blackaf                         3\n",
              "catsthemewvi                    4\n",
              "                             ... \n",
              "zozo                         5958\n",
              "zumbo dessert                5960\n",
              "zz top littl ol band texa    5961\n",
              "الف مبروك                    5962\n",
              "반드시 잡는다                      5965\n",
              "Length: 5249, dtype: int64"
            ],
            "text/html": [
              "<div>\n",
              "<style scoped>\n",
              "    .dataframe tbody tr th:only-of-type {\n",
              "        vertical-align: middle;\n",
              "    }\n",
              "\n",
              "    .dataframe tbody tr th {\n",
              "        vertical-align: top;\n",
              "    }\n",
              "\n",
              "    .dataframe thead th {\n",
              "        text-align: right;\n",
              "    }\n",
              "</style>\n",
              "<table border=\"1\" class=\"dataframe\">\n",
              "  <thead>\n",
              "    <tr style=\"text-align: right;\">\n",
              "      <th></th>\n",
              "      <th>0</th>\n",
              "    </tr>\n",
              "    <tr>\n",
              "      <th>Title</th>\n",
              "      <th></th>\n",
              "    </tr>\n",
              "  </thead>\n",
              "  <tbody>\n",
              "    <tr>\n",
              "      <th>unwel</th>\n",
              "      <td>0</td>\n",
              "    </tr>\n",
              "    <tr>\n",
              "      <th>aliv</th>\n",
              "      <td>1</td>\n",
              "    </tr>\n",
              "    <tr>\n",
              "      <th>annefrank  parallel stori</th>\n",
              "      <td>2</td>\n",
              "    </tr>\n",
              "    <tr>\n",
              "      <th>blackaf</th>\n",
              "      <td>3</td>\n",
              "    </tr>\n",
              "    <tr>\n",
              "      <th>catsthemewvi</th>\n",
              "      <td>4</td>\n",
              "    </tr>\n",
              "    <tr>\n",
              "      <th>...</th>\n",
              "      <td>...</td>\n",
              "    </tr>\n",
              "    <tr>\n",
              "      <th>zozo</th>\n",
              "      <td>5958</td>\n",
              "    </tr>\n",
              "    <tr>\n",
              "      <th>zumbo dessert</th>\n",
              "      <td>5960</td>\n",
              "    </tr>\n",
              "    <tr>\n",
              "      <th>zz top littl ol band texa</th>\n",
              "      <td>5961</td>\n",
              "    </tr>\n",
              "    <tr>\n",
              "      <th>الف مبروك</th>\n",
              "      <td>5962</td>\n",
              "    </tr>\n",
              "    <tr>\n",
              "      <th>반드시 잡는다</th>\n",
              "      <td>5965</td>\n",
              "    </tr>\n",
              "  </tbody>\n",
              "</table>\n",
              "<p>5249 rows × 1 columns</p>\n",
              "</div><br><label><b>dtype:</b> int64</label>"
            ]
          },
          "metadata": {},
          "execution_count": 15
        }
      ]
    },
    {
      "cell_type": "markdown",
      "source": [
        "## Recommendation function"
      ],
      "metadata": {
        "id": "0CiQGWeHFvrf"
      }
    },
    {
      "cell_type": "code",
      "source": [
        "def netFlix_recommendation(title, similarity = similarity):\n",
        "    index = indices[title]\n",
        "    similarity_scores = list(enumerate(similarity[index]))\n",
        "    similarity_scores = sorted(similarity_scores, key=lambda x: x[1], reverse=True)\n",
        "    similarity_scores = similarity_scores[0:10]\n",
        "    movieindices = [i[0] for i in similarity_scores]\n",
        "    return data['Title'].iloc[movieindices]"
      ],
      "metadata": {
        "id": "1G3qyIPDOKAI"
      },
      "execution_count": null,
      "outputs": []
    },
    {
      "cell_type": "code",
      "source": [
        "print(netFlix_recommendation(\"realityhigh\"))"
      ],
      "metadata": {
        "id": "jzCupRzNOKD9",
        "colab": {
          "base_uri": "https://localhost:8080/"
        },
        "collapsed": true,
        "outputId": "8cefab3e-fb4f-47e0-c8f4-bed8cf618854"
      },
      "execution_count": null,
      "outputs": [
        {
          "output_type": "stream",
          "name": "stdout",
          "text": [
            "7                          realityhigh\n",
            "106                futil stupid gestur\n",
            "191                             accept\n",
            "331            american pie  girl rule\n",
            "456    austin power intern man mysteri\n",
            "513                       bad grandpa \n",
            "517                           bad trip\n",
            "577                           bebe kid\n",
            "629                      two fern movi\n",
            "999                    christma surviv\n",
            "Name: Title, dtype: object\n"
          ]
        }
      ]
    }
  ]
}